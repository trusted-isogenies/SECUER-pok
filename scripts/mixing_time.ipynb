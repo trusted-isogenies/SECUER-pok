{
 "cells": [
  {
   "cell_type": "markdown",
   "id": "238036dd",
   "metadata": {},
   "source": [
    "# 1) Backtracking"
   ]
  },
  {
   "cell_type": "code",
   "execution_count": 1,
   "id": "70126560",
   "metadata": {},
   "outputs": [],
   "source": [
    "import numpy as np, scipy as sp, json"
   ]
  },
  {
   "cell_type": "code",
   "execution_count": 2,
   "id": "06ba5a0b",
   "metadata": {},
   "outputs": [],
   "source": [
    "from scipy import sparse, linalg"
   ]
  },
  {
   "cell_type": "code",
   "execution_count": 3,
   "id": "3b66de0d",
   "metadata": {},
   "outputs": [],
   "source": [
    "from matplotlib import pyplot as plt"
   ]
  },
  {
   "cell_type": "markdown",
   "id": "bdf3f6f8",
   "metadata": {},
   "source": [
    "If you need to download the database, uncomment below and execute (Linux commands, do manually if on a different platform)"
   ]
  },
  {
   "cell_type": "code",
   "execution_count": 4,
   "id": "44798c77",
   "metadata": {},
   "outputs": [],
   "source": [
    "# !wget 'https://zenodo.org/record/4304044/files/isogeny-database-v1-30000.zip'\n",
    "# !unzip 'isogeny-database-v1-30000.zip'"
   ]
  },
  {
   "cell_type": "markdown",
   "id": "8bcc9da0",
   "metadata": {},
   "source": [
    "Load the adjacency matrix and normalize"
   ]
  },
  {
   "cell_type": "code",
   "execution_count": 5,
   "id": "f85db8ef",
   "metadata": {},
   "outputs": [],
   "source": [
    "A = sparse.load_npz('graphs/29989/29989_2.npz') / 3"
   ]
  },
  {
   "cell_type": "markdown",
   "id": "ccc7ff67",
   "metadata": {},
   "source": [
    "Load the second largest eigenvalue in absolute value"
   ]
  },
  {
   "cell_type": "code",
   "execution_count": 6,
   "id": "f89fb369",
   "metadata": {},
   "outputs": [],
   "source": [
    "with open('graphs/29989/29989_metadata.json') as f:\n",
    "    meta = json.load(f)\n",
    "λ2 = max(map(abs, meta['ell']['2']['eigenvalues']))"
   ]
  },
  {
   "cell_type": "markdown",
   "id": "738a8dc9",
   "metadata": {},
   "source": [
    "The normalized adjacency matrix of the clique (all 1s)"
   ]
  },
  {
   "cell_type": "code",
   "execution_count": 7,
   "id": "bd4325de",
   "metadata": {},
   "outputs": [],
   "source": [
    "J = np.matrix(np.ones(A.shape) / A.shape[0])"
   ]
  },
  {
   "cell_type": "markdown",
   "id": "c125cad4",
   "metadata": {},
   "source": [
    "The slope function predicted by the Ramanujan bound"
   ]
  },
  {
   "cell_type": "code",
   "execution_count": 8,
   "id": "53539875",
   "metadata": {},
   "outputs": [],
   "source": [
    "c = lambda l : 1 / (np.log2((l+1)/np.sqrt(l)) - 1)"
   ]
  },
  {
   "cell_type": "markdown",
   "id": "5a77238d",
   "metadata": {},
   "source": [
    "The log statistical distance (matrix L1 norm) between X and the clique. \n",
    "\n",
    "This corresponds to the maximum statistical distance from uniform, among walks that start at a given vertex. Other statistics (e.g., average statistical distance, min statistical distance, ...) could also be interesting."
   ]
  },
  {
   "cell_type": "code",
   "execution_count": 9,
   "id": "59e55879",
   "metadata": {},
   "outputs": [],
   "source": [
    "D = lambda X : np.log2(linalg.norm(X - J, ord=1)) - 1"
   ]
  },
  {
   "cell_type": "markdown",
   "id": "a5d8078a",
   "metadata": {},
   "source": [
    "Let's plot the measured statistical distance against the slopes predicted by the Ramanujan bounds for walks **with backtracking**  (as the length of the walk increases). We only compare the slopes, not the additive constant, which appears to be smaller than what the bounds predict.\n",
    "\n",
    "Of course, it'd be interesting to do the same for walks without backtracking"
   ]
  },
  {
   "cell_type": "code",
   "execution_count": 10,
   "id": "53df60b8",
   "metadata": {
    "scrolled": true
   },
   "outputs": [
    {
     "data": {
      "text/plain": [
       "[<matplotlib.lines.Line2D at 0x7fea80714310>]"
      ]
     },
     "execution_count": 10,
     "metadata": {},
     "output_type": "execute_result"
    },
    {
     "data": {
      "image/png": "[encoded data removed]",
      "text/plain": [
       "<Figure size 432x288 with 1 Axes>"
      ]
     },
     "metadata": {
      "needs_background": "light"
     },
     "output_type": "display_data"
    }
   ],
   "source": [
    "N = 50\n",
    "B = np.matrix(A.toarray())\n",
    "y = [D(B)]\n",
    "for t in range(1, N-1):\n",
    "    B *= A   # B is dense and A is sparse, this appears to be faster\n",
    "    y.append(D(B))\n",
    "\n",
    "x = np.arange(1,N)\n",
    "plt.plot(x, y, color='blue')\n",
    "plt.plot(x, -x/c(2) + 1, color='red')   # The slope predicted by the Ramanujan bound (+1 for visual aid)\n",
    "plt.plot(x, -x*np.log2(3/λ2) + 1, color='green')   # The slope predicted by λ₂ (+1 for visual aid)"
   ]
  },
  {
   "cell_type": "markdown",
   "id": "03796f98",
   "metadata": {},
   "source": [
    "Same as above, but with less datapoints, so we can look further"
   ]
  },
  {
   "cell_type": "code",
   "execution_count": 11,
   "id": "53bc269e",
   "metadata": {
    "scrolled": true
   },
   "outputs": [
    {
     "data": {
      "text/plain": [
       "[<matplotlib.lines.Line2D at 0x7feac8ee8940>]"
      ]
     },
     "execution_count": 11,
     "metadata": {},
     "output_type": "execute_result"
    },
    {
     "data": {
      "image/png": "[encoded data removed]",
      "text/plain": [
       "<Figure size 432x288 with 1 Axes>"
      ]
     },
     "metadata": {
      "needs_background": "light"
     },
     "output_type": "display_data"
    }
   ],
   "source": [
    "N, jump = 25, 20\n",
    "Aj = np.matrix(A.toarray())**jump\n",
    "B = Aj.copy()\n",
    "y = [D(B)]\n",
    "for t in range(1, N-1):\n",
    "    B *= Aj\n",
    "    y.append(D(B))\n",
    "\n",
    "x = np.arange(jump, N*jump, jump)\n",
    "plt.plot(x, y, color='blue')\n",
    "plt.plot(x, -x/c(2) + 1, color='red')   # The slope predicted by the Ramanujan bound (+1 for visual aid)\n",
    "plt.plot(x, -x*np.log2(3/λ2) + 1, color='green')   # The slope predicted by λ₂ (+1 for visual aid)"
   ]
  },
  {
   "cell_type": "markdown",
   "id": "6228aa71",
   "metadata": {},
   "source": [
    "# 2) Non-backtracking"
   ]
  },
  {
   "cell_type": "code",
   "execution_count": 12,
   "id": "61bca7fa",
   "metadata": {},
   "outputs": [],
   "source": [
    "number_vertices = A.shape[0]"
   ]
  },
  {
   "cell_type": "markdown",
   "id": "c0cd2ea8",
   "metadata": {},
   "source": [
    "A list to index all the edges"
   ]
  },
  {
   "cell_type": "code",
   "execution_count": 13,
   "id": "7829d0f2",
   "metadata": {},
   "outputs": [],
   "source": [
    "edges = [(A.nonzero()[0][i],A.nonzero()[1][i]) for i in range(A.size)]"
   ]
  },
  {
   "cell_type": "markdown",
   "id": "f5c3d709",
   "metadata": {},
   "source": [
    "Build the transition matrix NB of non-backtracking walks (that is a walk on edges rather than on vertices)"
   ]
  },
  {
   "cell_type": "code",
   "execution_count": 14,
   "id": "12a36126",
   "metadata": {},
   "outputs": [],
   "source": [
    "NBshape = (len(edges),len(edges))\n",
    "NBrow = []\n",
    "NBcol = []\n",
    "NBdata = []\n",
    "cA = A.tocoo()\n",
    "for i1,j1,v1 in zip(cA.row, cA.col, cA.data):\n",
    "    for i2,j2,v2 in zip(cA.row, cA.col, cA.data):\n",
    "        if (j1 == i2):\n",
    "            e1 = edges.index((i1,j1))\n",
    "            e2 = edges.index((i2,j2))\n",
    "            x = v2*3\n",
    "            if ((i2,j2) == (j1,i1)):\n",
    "                x -= 1 # non-backtracking\n",
    "            if (x != 0):\n",
    "                NBrow.append(e2)\n",
    "                NBcol.append(e1)\n",
    "                NBdata.append(x/2)"
   ]
  },
  {
   "cell_type": "code",
   "execution_count": 15,
   "id": "375d6160",
   "metadata": {},
   "outputs": [],
   "source": [
    "NB = sparse.coo_matrix((NBdata,(NBrow,NBcol)),shape=NBshape).tocsr()"
   ]
  },
  {
   "cell_type": "markdown",
   "id": "00a6cb94",
   "metadata": {},
   "source": [
    "Build a matrix _to\\_targets_ that transforms a distribution on edges in to a distribution on vertices: if v is a vector representing a distribution on the edges, then to_targets\\*v is a vector representing the distribution on vertices obtained by sampling an edge and returning its target"
   ]
  },
  {
   "cell_type": "code",
   "execution_count": 16,
   "id": "79eefbd3",
   "metadata": {},
   "outputs": [],
   "source": [
    "to_targets = [[0 for i in range(len(edges))] for j in range(number_vertices)]\n",
    "for i in range(len(edges)):\n",
    "    to_targets[edges[i][1]][i] += 1"
   ]
  },
  {
   "cell_type": "code",
   "execution_count": 17,
   "id": "8ccad7cb",
   "metadata": {},
   "outputs": [],
   "source": [
    "to_targets = np.matrix(to_targets)\n",
    "target_matrix = to_targets*NB"
   ]
  },
  {
   "cell_type": "markdown",
   "id": "96c388a0",
   "metadata": {},
   "source": [
    "Reshape the uniform matrix to account for all possible starting *edge* (instead of starting *vertex*)"
   ]
  },
  {
   "cell_type": "code",
   "execution_count": 18,
   "id": "d7d7ae36",
   "metadata": {},
   "outputs": [],
   "source": [
    "#to_targets"
   ]
  },
  {
   "cell_type": "code",
   "execution_count": 19,
   "id": "5e0487ac",
   "metadata": {},
   "outputs": [],
   "source": [
    "J = np.matrix(np.ones(target_matrix.shape) / target_matrix.shape[0])"
   ]
  },
  {
   "cell_type": "code",
   "execution_count": 20,
   "id": "84a7dccc",
   "metadata": {},
   "outputs": [],
   "source": [
    "N = 50\n",
    "B = np.matrix(NB.toarray())\n",
    "y = [D(to_targets*B)]\n",
    "for t in range(1, N-1):\n",
    "    B *= NB   # B is dense and NB is sparse, this appears to be faster\n",
    "    y.append(D(to_targets*B))"
   ]
  },
  {
   "cell_type": "code",
   "execution_count": 21,
   "id": "7712d91c",
   "metadata": {},
   "outputs": [
    {
     "data": {
      "text/plain": [
       "[<matplotlib.lines.Line2D at 0x7feaa8a8a700>]"
      ]
     },
     "execution_count": 21,
     "metadata": {},
     "output_type": "execute_result"
    },
    {
     "data": {
      "image/png": "[encoded data removed]",
      "text/plain": [
       "<Figure size 432x288 with 1 Axes>"
      ]
     },
     "metadata": {
      "needs_background": "light"
     },
     "output_type": "display_data"
    }
   ],
   "source": [
    "x = np.arange(1,N)\n",
    "plt.plot(x, y, color='blue')\n",
    "plt.plot(x, -x/c(2) + 1, color='red')   # The slope predicted by the Ramanujan bound for backtracking walks\n",
    "plt.plot(x, -x/2. + 4, color='green')   # Some attempt to match the slope"
   ]
  }
 ],
 "metadata": {
  "kernelspec": {
   "display_name": "Python 3 (ipykernel)",
   "language": "python",
   "name": "python3"
  },
  "language_info": {
   "codemirror_mode": {
    "name": "ipython",
    "version": 3
   },
   "file_extension": ".py",
   "mimetype": "text/x-python",
   "name": "python",
   "nbconvert_exporter": "python",
   "pygments_lexer": "ipython3",
   "version": "3.8.5"
  }
 },
 "nbformat": 4,
 "nbformat_minor": 5
}
